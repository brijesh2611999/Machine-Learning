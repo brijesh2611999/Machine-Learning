{
 "cells": [
  {
   "cell_type": "code",
   "execution_count": 3,
   "id": "35129773",
   "metadata": {},
   "outputs": [],
   "source": [
    "import pandas as pd\n",
    "import requests\n",
    "from bs4 import BeautifulSoup"
   ]
  },
  {
   "cell_type": "code",
   "execution_count": 5,
   "id": "6d3967d7",
   "metadata": {},
   "outputs": [
    {
     "data": {
      "text/plain": [
       "<Response [403]>"
      ]
     },
     "execution_count": 5,
     "metadata": {},
     "output_type": "execute_result"
    }
   ],
   "source": [
    "requests.get('https://www.ambitionbox.com/list-of-companies?campaign=desktop_nav')"
   ]
  },
  {
   "cell_type": "code",
   "execution_count": null,
   "id": "dae46aca",
   "metadata": {},
   "outputs": [],
   "source": [
    "# 1xx informational response – the request was received, continuing process\n",
    "# 2xx successful – the request was successfully received, understood, and accepted\n",
    "# 3xx redirection – further action needs to be taken in order to complete the request\n",
    "# 4xx client error – the request contains bad syntax or cannot be fulfilled\n",
    "# 5xx server error – the server failed to fulfil an apparently valid request"
   ]
  },
  {
   "cell_type": "code",
   "execution_count": 12,
   "id": "76c3601a",
   "metadata": {},
   "outputs": [],
   "source": [
    "headers={'User-Agent':'Mozilla/5.0 (Windows NT 6.3; Win 64 ; x64) Apple WeKit /537.36(KHTML , like Gecko) Chrome/80.0.3987.162 Safari/537.36'}\n",
    "webpage = requests.get('https://www.ambitionbox.com/list-of-companies?campaign=desktop_nav',headers=headers).text"
   ]
  },
  {
   "cell_type": "code",
   "execution_count": 13,
   "id": "ec7ce6cc",
   "metadata": {},
   "outputs": [],
   "source": [
    "soup = BeautifulSoup(webpage,'lxml')"
   ]
  },
  {
   "cell_type": "code",
   "execution_count": 18,
   "id": "734ea51e",
   "metadata": {},
   "outputs": [],
   "source": [
    "# print(soup.prettify())"
   ]
  },
  {
   "cell_type": "code",
   "execution_count": 19,
   "id": "cf66ca94",
   "metadata": {},
   "outputs": [],
   "source": [
    "# soup.find_all('h1')[0].text"
   ]
  },
  {
   "cell_type": "code",
   "execution_count": 25,
   "id": "9552dcdb",
   "metadata": {},
   "outputs": [
    {
     "name": "stdout",
     "output_type": "stream",
     "text": [
      "TCS\n",
      "Accenture\n",
      "Cognizant\n",
      "Wipro\n",
      "Capgemini\n",
      "HDFC Bank\n",
      "ICICI Bank\n",
      "Infosys\n",
      "HCLTech\n",
      "Tech Mahindra\n",
      "Genpact\n",
      "Axis Bank\n",
      "Teleperformance\n",
      "Concentrix Corporation\n",
      "Jio\n",
      "Amazon\n",
      "IBM\n",
      "Reliance Retail\n",
      "HDB Financial Services\n",
      "Larsen & Toubro Limited\n",
      "Companies by  Industry\n",
      "Companies by  Locations\n",
      "Companies by  Type\n",
      "Companies by  Badges\n"
     ]
    }
   ],
   "source": [
    "# soup.find_all('h2')[0].text\n",
    "for i in soup.find_all('h2'):\n",
    "    print(i.text.strip())"
   ]
  },
  {
   "cell_type": "code",
   "execution_count": 33,
   "id": "40e6b6df",
   "metadata": {},
   "outputs": [
    {
     "name": "stdout",
     "output_type": "stream",
     "text": [
      "3.8\n",
      "4.0\n",
      "3.9\n",
      "3.8\n",
      "3.9\n",
      "3.9\n",
      "4.0\n",
      "3.8\n",
      "3.7\n",
      "3.7\n",
      "3.9\n",
      "3.9\n",
      "3.6\n",
      "3.9\n",
      "4.0\n",
      "4.1\n",
      "4.1\n",
      "3.9\n",
      "4.0\n",
      "4.1\n"
     ]
    }
   ],
   "source": [
    "for i in soup.find_all('span',class_='companyCardWrapper__companyRatingValue'):\n",
    "    print(i.text)"
   ]
  },
  {
   "cell_type": "code",
   "execution_count": null,
   "id": "68d6d6a7",
   "metadata": {},
   "outputs": [],
   "source": []
  }
 ],
 "metadata": {
  "kernelspec": {
   "display_name": "Python 3 (ipykernel)",
   "language": "python",
   "name": "python3"
  },
  "language_info": {
   "codemirror_mode": {
    "name": "ipython",
    "version": 3
   },
   "file_extension": ".py",
   "mimetype": "text/x-python",
   "name": "python",
   "nbconvert_exporter": "python",
   "pygments_lexer": "ipython3",
   "version": "3.10.9"
  }
 },
 "nbformat": 4,
 "nbformat_minor": 5
}
